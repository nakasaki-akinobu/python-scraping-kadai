{
  "nbformat": 4,
  "nbformat_minor": 0,
  "metadata": {
    "colab": {
      "provenance": []
    },
    "kernelspec": {
      "name": "python3",
      "display_name": "Python 3"
    },
    "language_info": {
      "name": "python"
    }
  },
  "cells": [
    {
      "cell_type": "code",
      "execution_count": 1,
      "metadata": {
        "colab": {
          "base_uri": "https://localhost:8080/"
        },
        "id": "CB5yajC-0buF",
        "outputId": "6096c26e-e4a9-410c-9f6e-b8351f3dd7b2"
      },
      "outputs": [
        {
          "output_type": "stream",
          "name": "stdout",
          "text": [
            "Requirement already satisfied: requests in /usr/local/lib/python3.10/dist-packages (2.31.0)\n",
            "Requirement already satisfied: beautifulsoup4 in /usr/local/lib/python3.10/dist-packages (4.12.3)\n",
            "Requirement already satisfied: charset-normalizer<4,>=2 in /usr/local/lib/python3.10/dist-packages (from requests) (3.3.2)\n",
            "Requirement already satisfied: idna<4,>=2.5 in /usr/local/lib/python3.10/dist-packages (from requests) (3.6)\n",
            "Requirement already satisfied: urllib3<3,>=1.21.1 in /usr/local/lib/python3.10/dist-packages (from requests) (2.0.7)\n",
            "Requirement already satisfied: certifi>=2017.4.17 in /usr/local/lib/python3.10/dist-packages (from requests) (2024.2.2)\n",
            "Requirement already satisfied: soupsieve>1.2 in /usr/local/lib/python3.10/dist-packages (from beautifulsoup4) (2.5)\n"
          ]
        }
      ],
      "source": [
        "!pip install requests beautifulsoup4"
      ]
    },
    {
      "cell_type": "code",
      "source": [
        "import requests\n",
        "from bs4 import BeautifulSoup"
      ],
      "metadata": {
        "id": "kdbDOCjO1x_e"
      },
      "execution_count": 2,
      "outputs": []
    },
    {
      "cell_type": "code",
      "source": [
        "url = 'https://news.yahoo.co.jp/articles/e95d0b8fc090d6f57c8becf46ad0dccf312543e3'"
      ],
      "metadata": {
        "id": "kohseykJ1tjJ"
      },
      "execution_count": 3,
      "outputs": []
    },
    {
      "cell_type": "code",
      "source": [
        "response = requests.get(url)"
      ],
      "metadata": {
        "id": "WdGdQM6D4NeI"
      },
      "execution_count": 4,
      "outputs": []
    },
    {
      "cell_type": "code",
      "source": [
        "soup = BeautifulSoup(response.text, 'html.parser')"
      ],
      "metadata": {
        "id": "QPHdCd1F4Y8P"
      },
      "execution_count": 6,
      "outputs": []
    },
    {
      "cell_type": "code",
      "source": [
        "whole_sentence = soup.select_one('#uamods > div > div > p')"
      ],
      "metadata": {
        "id": "IdmRJI6r45pY"
      },
      "execution_count": 7,
      "outputs": []
    },
    {
      "cell_type": "code",
      "source": [
        "whole_sentence_text = whole_sentence.text"
      ],
      "metadata": {
        "id": "kl3fx51U5g4E"
      },
      "execution_count": 8,
      "outputs": []
    },
    {
      "cell_type": "code",
      "source": [
        "print(whole_sentence_text)"
      ],
      "metadata": {
        "colab": {
          "base_uri": "https://localhost:8080/"
        },
        "id": "pQVNuGH25vdv",
        "outputId": "36ad5d27-1c5b-4ff2-829e-fa080da6a564"
      },
      "execution_count": 9,
      "outputs": [
        {
          "output_type": "stream",
          "name": "stdout",
          "text": [
            "　自民党派閥の裏金事件を巡り、自身の処分を見送った岸田文雄首相（党総裁）が「国民と党員に（責任を）判断してもらう」と発言し、与野党で5日、波紋が広がった。\n",
            "\n",
            "【ひと目でわかる】特定パーティー収入ランキング\n",
            "\n",
            "　政権の危機にもかかわらず、総裁再選や衆院解散を目指すことを示唆したのではないかとの見方があるためだ。\n",
            "\n",
            "　首相は自民党が処分を決めた4日夜、記者団から自身の責任を問われ「政治改革の取り組みを見ていただいて、最終的には国民、党員に判断してもらう」と言及。5日の衆院内閣委員会でも同様の認識を示した。\n",
            "\n",
            "　9月末の総裁任期満了を控え、首相は局面転換を図るため、6月の今国会会期末を含め衆院解散のタイミングを探っているのではないかとの観測もある。首相発言を受け、自民参院中堅は「なぜ自分の責任は国民に問えば良くて、ほかの人は処分なのか。首相にはついていけない」と反発。二階派若手は「首相が責任を取って辞めるしかない。解散なんて言い出せば政権は崩壊する」と断言した。\n",
            "\n",
            "　立憲民主党の泉健太代表は5日の記者会見で「開き直って『文句があるなら判断してみろ』という言い方だ」と指摘。「選挙で国民が首相を処分するしかない」と述べ、衆院解散を要求した。\n",
            "\n",
            "　国民民主党の榛葉賀津也幹事長は会見で「首相の一番の責務は真相究明だ。責任を国民や党員が判断するだろうなんて、そんなずるい発言はない」と批判した。　\n"
          ]
        }
      ]
    }
  ]
}